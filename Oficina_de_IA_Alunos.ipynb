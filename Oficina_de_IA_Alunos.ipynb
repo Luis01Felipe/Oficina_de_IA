{
  "nbformat": 4,
  "nbformat_minor": 0,
  "metadata": {
    "colab": {
      "provenance": [],
      "authorship_tag": "ABX9TyPeb8gQxDtYDgxjyEAdE2XY",
      "include_colab_link": true
    },
    "kernelspec": {
      "name": "python3",
      "display_name": "Python 3"
    },
    "language_info": {
      "name": "python"
    }
  },
  "cells": [
    {
      "cell_type": "markdown",
      "metadata": {
        "id": "view-in-github",
        "colab_type": "text"
      },
      "source": [
        "<a href=\"https://colab.research.google.com/github/Luis01Felipe/Oficina_de_IA/blob/main/Oficina_de_IA_Alunos.ipynb\" target=\"_parent\"><img src=\"https://colab.research.google.com/assets/colab-badge.svg\" alt=\"Open In Colab\"/></a>"
      ]
    },
    {
      "cell_type": "markdown",
      "source": [
        "**Este material foi desenvolvido para a Semana Tecnológica da Universidade Paulista (UNIP) com o propósito de ensinar conceitos de Inteligência Artificial aos alunos dos cursos de Ciência da Computação e Análise e Desenvolvimento de Sistemas da unidade Paraíso.**\n",
        "\n",
        "**Professores e alunos estão livres para utilizá-lo à vontade, desde que a gratuidade do material seja preservada.**\n",
        "\n",
        "\n",
        "[Acesse todo o conteúdo através do repositório oficial desta oficina no Github](https://github.com/Luis01Felipe/Oficina_de_IA)\n",
        "\n",
        "**Criado Por**: Luis Felipe Moraes Gomes Couto\n",
        "\n",
        "**Data de criação**: 02/11/24\n",
        "\n",
        "**Data de atualização**: 05/11/24\n",
        "\n",
        "**Minhas plataformas**:\n",
        "* [Linkedin](https://www.linkedin.com/in/luis-felipe-moraes-gomes-couto-b10781201/)\n",
        "* [Instagram](https://www.instagram.com/luis0.0felipe?igsh=cXFtaDRkZmxhY2xq)\n",
        "* [Meu Site](https://luis01felipe.github.io/LuisFelipe.github.io/index.html)"
      ],
      "metadata": {
        "id": "lxOgWgYrDk5S"
      }
    },
    {
      "cell_type": "markdown",
      "source": [
        "# Copie o código de: **Aprendizado de Máquina**\n",
        "\n",
        "Para obter o conjunto de dados necessário, você pode baixar o arquivo `pima-indians-diabetes.csv` de uma das seguintes fontes:\n",
        "\n",
        "* [Fonte oficial no Kaggle](https://www.kaggle.com/datasets/kumargh/pimaindiansdiabetescsv)\n",
        "\n",
        "* [Repositório oficial desta oficina](https://github.com/Luis01Felipe/Oficina_de_IA)\n",
        "\n",
        "Após o download, salve o arquivo na área de trabalho para facilitar o acesso durante a oficina."
      ],
      "metadata": {
        "id": "-jdAhfOgBHHh"
      }
    },
    {
      "cell_type": "markdown",
      "source": [
        "## Instale as bibliotecas"
      ],
      "metadata": {
        "id": "senAyvUmHl-3"
      }
    },
    {
      "cell_type": "code",
      "execution_count": null,
      "metadata": {
        "id": "gcjje-6DBDne"
      },
      "outputs": [],
      "source": []
    },
    {
      "cell_type": "markdown",
      "source": [
        "## Resto do programa"
      ],
      "metadata": {
        "id": "VwVeV-I5HtG5"
      }
    },
    {
      "cell_type": "code",
      "source": [],
      "metadata": {
        "id": "hBwg3pHiHsb0"
      },
      "execution_count": null,
      "outputs": []
    },
    {
      "cell_type": "markdown",
      "source": [
        "## **Atividade:**\n",
        "Nesta atividade iremos modificar os valores de epochs e batch_size para analisar quais os melhores valores para este modelo, a cada moficação, executaremos o programa novamente e anotaremos seus resultados.\n",
        "1. Modifique os valores de `Epochs` para que seja igual a `1000`.\n",
        "2. Modifique os valores de `Epochs` para que seja igual a `100` e então modifique os valores de `batch_size` para que seja igual a `1000`.\n",
        "3. Modifique novamente os valores de `Epochs` para que seja igual a `1000`, mas mantendo os valores de `batch_size` iguais a `1000`.\n"
      ],
      "metadata": {
        "id": "S18w-vKVBqlm"
      }
    },
    {
      "cell_type": "markdown",
      "source": [
        "# Copie o código de: **Aprendizado Profundo**"
      ],
      "metadata": {
        "id": "Zz7yNk0SBTD_"
      }
    },
    {
      "cell_type": "code",
      "source": [],
      "metadata": {
        "id": "dI_YrfkoBYDd"
      },
      "execution_count": null,
      "outputs": []
    },
    {
      "cell_type": "markdown",
      "source": [
        "## **Atividade:**\n",
        "1. Execute duas vezes o programa de **Aprendizado de Máquina** e anote os resultados do modelo junto dos valores de `epochs` e `batch_size`.\n",
        "2. Certifique-se de que o programa de **Aprendizado Profundo** possui o mesmo valor de `epochs` e `batch_size` que o programa de **Aprendizado de Máquina**.\n",
        "3. Execute duas vezes o programa de **Aprendizado Profundo** e anote os resultados do modelo.\n",
        "4. **Compare os resultados dos modelos de Aprendizado de Máquina com os de Aprendizado Profundo**"
      ],
      "metadata": {
        "id": "Cv9Zky5JBHC9"
      }
    },
    {
      "cell_type": "markdown",
      "source": [
        "# Copie o código de: **Inteligência Artificial**\n",
        "\n",
        "### Salve a imagem da placa e teste no modelo\n",
        "Aperte com o botão direito sobre as placas abaixo e clique em `Salvar imagem`, salve na área de trabalho com o nome de `placa.png`\n",
        "![placa](https://grupootimiza.com.br/wp-content/uploads/2022/05/cinza-particular-1024x354.png)"
      ],
      "metadata": {
        "id": "tRvHdr91BYlw"
      }
    },
    {
      "cell_type": "markdown",
      "source": [
        "## Instale as bibliotecas\n",
        "![Instalando as bibliotecas](https://github.com/Luis01Felipe/Oficina_de_IA/blob/main/Vamos%20desenvolver%20uma%20IA%20-%20Instale%20as%20bibliotecas.png?raw=true)"
      ],
      "metadata": {
        "id": "d4qY_HqaH3LR"
      }
    },
    {
      "cell_type": "code",
      "source": [],
      "metadata": {
        "id": "Xb3yUJ2EBnn4"
      },
      "execution_count": null,
      "outputs": []
    },
    {
      "cell_type": "markdown",
      "source": [
        "## Resto do programa\n",
        "![Criando o programa](https://github.com/Luis01Felipe/Oficina_de_IA/blob/main/Vamos%20desenvolver%20uma%20IA%20-%20Criando%20o%20Programa.png?raw=true)\n",
        "\n",
        "**Quando terminar de copiar todo o programa, escolha o arquivo `placa.png` para ter seu texto extraído.**"
      ],
      "metadata": {
        "id": "P7Fi6nzIH4ak"
      }
    },
    {
      "cell_type": "code",
      "source": [],
      "metadata": {
        "id": "2JaXDYh2H7XQ"
      },
      "execution_count": null,
      "outputs": []
    },
    {
      "cell_type": "markdown",
      "source": [
        "## Atividades"
      ],
      "metadata": {
        "id": "kRA-hjVnKDFG"
      }
    },
    {
      "cell_type": "markdown",
      "source": [
        "### **Atividade 1**:\n",
        "Busque outras placas de carro e teste se o sistema as reconhece também.\n"
      ],
      "metadata": {
        "id": "FLGo15zVH8Jg"
      }
    },
    {
      "cell_type": "markdown",
      "source": [
        "### **Atividade 2**:\n",
        "Salve a imagem abaixo como `carro.jpg`. Em seguida, importe-a para o programa para que ele possa realizar a extração do texto da imagem.\n",
        "\n",
        "![placa2](https://quatrorodas.abril.com.br/wp-content/uploads/2018/09/imagem-e1536873662306.jpg?quality=70&strip=info&w=720&crop=1)\n"
      ],
      "metadata": {
        "id": "G6C1t9YbJVL1"
      }
    },
    {
      "cell_type": "markdown",
      "source": [
        "### **Atividade 3**:\n",
        "Salve a imagem recortada abaixo como `placa2.png`. Em seguida, importe-a para o programa para que ele possa extrair o texto presente na imagem.\n",
        "\n",
        "![placa2](https://github.com/Luis01Felipe/Oficina_de_IA/blob/main/placa2.png?raw=true)"
      ],
      "metadata": {
        "id": "etvwh0GuJZnN"
      }
    }
  ]
}