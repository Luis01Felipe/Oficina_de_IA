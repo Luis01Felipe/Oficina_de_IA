{
  "nbformat": 4,
  "nbformat_minor": 0,
  "metadata": {
    "colab": {
      "provenance": [],
      "authorship_tag": "ABX9TyOj3D3w/m2R53RXGMPWrfrg",
      "include_colab_link": true
    },
    "kernelspec": {
      "name": "python3",
      "display_name": "Python 3"
    },
    "language_info": {
      "name": "python"
    }
  },
  "cells": [
    {
      "cell_type": "markdown",
      "metadata": {
        "id": "view-in-github",
        "colab_type": "text"
      },
      "source": [
        "<a href=\"https://colab.research.google.com/github/Luis01Felipe/Oficina_de_IA/blob/main/Oficina_de_IA_Alunos.ipynb\" target=\"_parent\"><img src=\"https://colab.research.google.com/assets/colab-badge.svg\" alt=\"Open In Colab\"/></a>"
      ]
    },
    {
      "cell_type": "markdown",
      "source": [
        "**Este material foi desenvolvido para a Semana Tecnológica da Universidade Paulista (UNIP) com o propósito de ensinar conceitos de Inteligência Artificial aos alunos dos cursos de Ciência da Computação e Análise e Desenvolvimento de Sistemas da unidade Paraíso.**\n",
        "\n",
        "**Professores e alunos estão livres para utilizá-lo à vontade, desde que a gratuidade do material seja preservada.**\n",
        "\n",
        "\n",
        "[Acesse todo o conteúdo através do repositório oficial desta oficina no Github](https://github.com/Luis01Felipe/Oficina_de_IA)\n",
        "\n",
        "* [Linkedin](https://www.linkedin.com/in/luis-felipe-moraes-gomes-couto-b10781201/)\n",
        "* [Instagram](https://www.instagram.com/luis0.0felipe?igsh=cXFtaDRkZmxhY2xq)\n",
        "* [Meu Site](https://luis01felipe.github.io/LuisFelipe.github.io/index.html)"
      ],
      "metadata": {
        "id": "lxOgWgYrDk5S"
      }
    },
    {
      "cell_type": "markdown",
      "source": [
        "# Copie o código de Aprendizado de Máquina\n",
        "\n",
        "Para obter o conjunto de dados necessário, você pode baixar o arquivo `pima-indians-diabetes.csv` de uma das seguintes fontes:\n",
        "\n",
        "* [Fonte oficial no Kaggle](https://www.kaggle.com/datasets/kumargh/pimaindiansdiabetescsv)\n",
        "\n",
        "* [Repositório oficial desta oficina](https://github.com/Luis01Felipe/Oficina_de_IA)\n",
        "\n",
        "Após o download, salve o arquivo na área de trabalho para facilitar o acesso durante a oficina."
      ],
      "metadata": {
        "id": "-jdAhfOgBHHh"
      }
    },
    {
      "cell_type": "code",
      "execution_count": null,
      "metadata": {
        "id": "gcjje-6DBDne"
      },
      "outputs": [],
      "source": []
    },
    {
      "cell_type": "markdown",
      "source": [
        "### Modifique os valores de Epochs e Batch_Size"
      ],
      "metadata": {
        "id": "S18w-vKVBqlm"
      }
    },
    {
      "cell_type": "markdown",
      "source": [
        "# Copie o código de Aprendizado Profundo"
      ],
      "metadata": {
        "id": "Zz7yNk0SBTD_"
      }
    },
    {
      "cell_type": "code",
      "source": [],
      "metadata": {
        "id": "dI_YrfkoBYDd"
      },
      "execution_count": null,
      "outputs": []
    },
    {
      "cell_type": "markdown",
      "source": [
        "# Copie o código de: Inteligência Artificial\n",
        "### Salve a imagem da placa e teste no modelo\n",
        "![placa](https://grupootimiza.com.br/wp-content/uploads/2022/05/cinza-particular-1024x354.png)"
      ],
      "metadata": {
        "id": "tRvHdr91BYlw"
      }
    },
    {
      "cell_type": "code",
      "source": [],
      "metadata": {
        "id": "Xb3yUJ2EBnn4"
      },
      "execution_count": null,
      "outputs": []
    },
    {
      "cell_type": "markdown",
      "source": [
        "### Busque placas de carro e teste se o sistema as reconhece também"
      ],
      "metadata": {
        "id": "vnt2q-s4CBWs"
      }
    }
  ]
}