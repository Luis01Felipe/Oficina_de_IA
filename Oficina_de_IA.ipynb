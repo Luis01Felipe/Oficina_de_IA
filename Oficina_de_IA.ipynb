{
  "nbformat": 4,
  "nbformat_minor": 0,
  "metadata": {
    "colab": {
      "provenance": [],
      "collapsed_sections": [
        "lc8Wbj5tthY5",
        "tCYb2SSO2IdI",
        "2VtLo7kP6li5",
        "1pe0_neDFyWS",
        "rQYgSglnCZIq"
      ],
      "authorship_tag": "ABX9TyMRMIO6N7wlSjL6Dyxn2X6V",
      "include_colab_link": true
    },
    "kernelspec": {
      "name": "python3",
      "display_name": "Python 3"
    },
    "language_info": {
      "name": "python"
    }
  },
  "cells": [
    {
      "cell_type": "markdown",
      "metadata": {
        "id": "view-in-github",
        "colab_type": "text"
      },
      "source": [
        "<a href=\"https://colab.research.google.com/github/Luis01Felipe/Oficina_de_IA/blob/main/Oficina_de_IA.ipynb\" target=\"_parent\"><img src=\"https://colab.research.google.com/assets/colab-badge.svg\" alt=\"Open In Colab\"/></a>"
      ]
    },
    {
      "cell_type": "markdown",
      "source": [
        "**Este material foi desenvolvido para a Semana Tecnológica da Universidade Paulista (UNIP), com o objetivo de ensinar conceitos de Inteligência Artificial aos alunos dos cursos de Ciência da Computação e Análise e Desenvolvimento de Sistemas, na unidade Paraíso.**\n",
        "\n",
        "\n",
        "[Acesse todo o conteúdo através do repositório oficial desta oficina no Github](https://github.com/Luis01Felipe/Oficina_de_IA)"
      ],
      "metadata": {
        "id": "FsLhNcnNPSYU"
      }
    },
    {
      "cell_type": "markdown",
      "source": [
        "# O que é uma Inteligência Artificial (IA) ?\n",
        "\n",
        "A inteligência artificial é um campo da ciência da computação que se dedica ao estudo e ao desenvolvimento de máquinas e programas computacionais capazes de reproduzir o comportamento humano na tomada de decisões e na realização de tarefas, desde as mais simples até as mais complexas. Funcionam mediante análise de um grande volume de dados e identificação de padrões, o que é feito por meio de métodos diversos, como o machine learning e o deep learning."
      ],
      "metadata": {
        "id": "lc8Wbj5tthY5"
      }
    },
    {
      "cell_type": "markdown",
      "source": [
        "## Mas, o que é inteligência ?\n",
        "Segundo o dicionário, inteligência é a capacidade de compreender e resolver novos problemas, adaptar-se a novas situações e tomar decisões com base em conhecimento adquirido. Porém, podemos ir além: inteligência também envolve a habilidade de aprender, reconhecer padrões e aplicar esses conhecimentos de forma eficaz. Dizemos que uma pessoa é inteligente quando consegue, por exemplo, identificar rapidamente como usar uma fórmula matemática apenas observando-a, compreendendo quando e onde aplicá-la. Assim, inteligência pode ser entendida como a maneira pela qual aplicamos o conhecimento para resolver problemas e tomar decisões.\n",
        "\n",
        "Isso nos leva a uma outra questão: o que é conhecimento? Segundo o dicionário, conhecimento é a capacidade de entender e compreender as coisas. No contexto de computação, podemos pensar no conhecimento como o resultado da interpretação e compreensão de informações.\n",
        "\n",
        "Mas, então, o que são informações? Elas são, essencialmente, dados organizados de forma que façam sentido. Dados, por sua vez, são registros brutos sobre o mundo ao nosso redor – como horários, números e eventos. Por exemplo, se soubermos que o ônibus passa às 8h30, o horário de entrada no trabalho é às 9h00, e que o trajeto leva 30 minutos, esses são dados. Quando analisamos esses dados juntos, compreendemos que devemos pegar o ônibus às 8h30 para chegar ao trabalho pontualmente. Essa compreensão é o que chamamos de conhecimento.\n",
        "\n",
        "Portanto, inteligência é o passo além: é a aplicação desse conhecimento para tomar decisões estratégicas, resolver problemas complexos e adaptar-se a novas situações. Na computação, transformar dados em informações e informações em inteligência é o que torna os sistemas verdadeiramente úteis, permitindo que façam análises e previsões cada vez mais sofisticadas."
      ],
      "metadata": {
        "id": "c8RvuteJuw23"
      }
    },
    {
      "cell_type": "markdown",
      "source": [
        "## Mas, o que é artificial?\n",
        "Segundo o dicionário, é aquilo que é produzido pela mão do homem, não pela natureza. Ou seja, aquilo que não é natural."
      ],
      "metadata": {
        "id": "n0W1buYEy52u"
      }
    },
    {
      "cell_type": "markdown",
      "source": [
        "## Concluindo\n",
        "Com base no que discutimos, podemos concluir que uma Inteligência Artificial é um software criado pelo ser humano com a capacidade de adquirir e aprender a partir de dados, transformando-os em informações úteis. A partir dessas informações, ela constrói conhecimento, que, por sua vez, é aplicado para resolver problemas e tomar decisões.\n",
        "\n",
        "\n",
        "---\n",
        "\n",
        "\n",
        "**NOTA**: Um software é um conjunto de instruções ou programas que permitem que um computador ou outro dispositivo execute tarefas específicas. Ele é a parte lógica e imaterial de um dispositivo, enquanto o hardware é a parte física."
      ],
      "metadata": {
        "id": "iqEGIJ3V0ECx"
      }
    },
    {
      "cell_type": "markdown",
      "source": [
        "# Exemplos de Inteligências Artificiais (IAs)\n",
        "\n",
        "\n"
      ],
      "metadata": {
        "id": "tCYb2SSO2IdI"
      }
    },
    {
      "cell_type": "markdown",
      "source": [
        "## ChatGPT\n",
        "Provavelmente o exemplo de IA mais conhecido atualmente, o ChatGPT (abreviação de *Generative Pre-trained Transformer*, ou transformador pré-treinado generativo) é uma IA desenvolvida pela OpenAI que simula conversas humanas. Ele permite que os usuários façam perguntas e recebam respostas detalhadas sobre uma ampla variedade de tópicos.\n",
        "\n",
        "![Imagem do ChatGPT](https://chatgpt.com.br/wp-content/uploads/2023/03/chatgpt-screen.jpg)"
      ],
      "metadata": {
        "id": "5cXjJYUr6AUE"
      }
    },
    {
      "cell_type": "markdown",
      "source": [
        "## DALL-E 2\n",
        "Outra IA desenvolvida pela OpenAI, o DALL-E 2 possui uma função diferente do ChatGPT: ele transforma descrições em linguagem natural em imagens. Basta o usuário fazer um pedido em texto, como \"um astronauta montado em um cavalo\", e o DALL-E 2 gera uma imagem com base nessa descrição. Ele é especialmente útil para criar ilustrações únicas a partir de ideias criativas.\n",
        "\n",
        "\n",
        "---\n",
        "\n",
        "\n",
        "**Nota**: A linguagem natural refere-se a qualquer idioma desenvolvido espontaneamente pelo ser humano, como o português, inglês ou línguas de sinais.\n",
        "![Imagem do DALL-E 2](https://images.ctfassets.net/kftzwdyauwt9/5GOIjwbUjLZHoGhX6q5oQg/d2984681d2a9466b71b7ca7632a8481c/Anastronautridingahorseinaphotorealisticstyle0.jpg)\n"
      ],
      "metadata": {
        "id": "kW6FRmld6Da7"
      }
    },
    {
      "cell_type": "markdown",
      "source": [
        "## AMD FSR e Nvidia DLSS\n",
        "As tecnologias AMD FidelityFX Super Resolution (FSR) e Nvidia Deep Learning Super Sampling (DLSS) são exemplos de IAs que atuam na melhoria gráfica em jogos. Ambas utilizam inteligência artificial para aprimorar a qualidade da imagem e a taxa de quadros, permitindo que jogos tenham um desempenho melhor em configurações de hardware mais modestas. Embora sejam diferentes na abordagem, ambas compartilham o objetivo de otimizar a experiência visual dos jogadores.\n",
        "\n",
        "![Imagem do AMD FSR](https://www.adrenaline.com.br/wp-content/uploads/2023/09/AMD-FSR-3-Gamescom-blog-Performance-1200x675.jpg)"
      ],
      "metadata": {
        "id": "AaUL8XFx6FhB"
      }
    },
    {
      "cell_type": "markdown",
      "source": [
        "# Algoritmos Especializados\n",
        "Você percebeu que a Cortana do Windows, a Alexa da Amazon e o Google Assistente não apareceram nos exemplos anteriores, apesar de serem bastante populares? Isso ocorre porque esses assistentes virtuais são conhecidos como algoritmos especializados. Eles têm uma função mais específica e são projetados para realizar tarefas em domínios limitados, ao contrário de IAs mais generalistas como o ChatGPT e o DALL-E.\n",
        "\n",
        "\n"
      ],
      "metadata": {
        "id": "2VtLo7kP6li5"
      }
    },
    {
      "cell_type": "markdown",
      "source": [
        "## O que são Algoritmos Especializados?\n",
        "Algoritmos especializados são sistemas de inteligência artificial que se concentram em resolver problemas específicos ou realizar tarefas bem definidas, com um conjunto de funcionalidades limitadas, mas altamente otimizadas. Esse tipo de IA é amplamente utilizado em assistentes virtuais, que são projetados para facilitar ações do cotidiano, como configurar alarmes, responder a perguntas triviais, fornecer direções e controlar dispositivos conectados.\n"
      ],
      "metadata": {
        "id": "FFC71U0D7oBF"
      }
    },
    {
      "cell_type": "markdown",
      "source": [
        "## Diferenças\n",
        "\n",
        "\n",
        "### Algoritmos Especializados\n",
        "Esses algoritmos geralmente usam técnicas de reconhecimento de fala e processamento de linguagem natural (PLN), combinadas com bancos de dados estruturados e comandos predefinidos. O aprendizado dessas IAs é restrito, operando dentro de um escopo limitado e em tarefas específicas. Por exemplo, a Alexa é excelente para controlar dispositivos de casa inteligente e responder a perguntas simples, mas não consegue sustentar conversas complexas ou realizar análises avançadas.\n",
        "\n",
        "### IAs Generalistas\n",
        "As IAs generalistas são baseadas em modelos de aprendizado profundo, como redes neurais complexas, que processam grandes volumes de dados não estruturados e possuem camadas de processamento mais profundas. Com uma ampla capacidade de resposta e adaptabilidade, essas IAs são desenvolvidas para interpretar, gerar e adaptar conteúdos variados, desde texto até imagens e áudio, em diversos contextos. Por exemplo, o ChatGPT pode responder perguntas complexas, ajudar em problemas de programação e até fornecer conselhos detalhados em diferentes áreas.\n",
        "\n",
        "\n",
        "\n",
        "\n",
        "\n",
        "\n",
        "\n",
        "\n"
      ],
      "metadata": {
        "id": "v1d0mWYN9Cfo"
      }
    },
    {
      "cell_type": "markdown",
      "source": [
        "# Aprendizado de Máquina\n",
        "O aprendizado de máquina (em inglês, machine learning) é um método de análise de dados que automatiza a construção de modelos analíticos. Ele faz parte da inteligência artificial e se baseia na ideia de que sistemas podem aprender com dados, identificar padrões e tomar decisões com o mínimo de intervenção humana. A IA reconhece e reproduz padrões com base na experiência anterior, que é adquirida ao processar dados usando algoritmos específicos. Ou seja, o computador analisa os dados em busca de padrões, e, a partir desses padrões, constrói um modelo que poderá ser usado em novas análises.\n",
        "\n",
        "Um exemplo é o reconhecimento facial: a máquina \"aprende\" a reconhecer rostos, identificando características comuns nas imagens de rostos já processadas. Esse aprendizado permite que ela identifique rostos em imagens futuras com alta precisão."
      ],
      "metadata": {
        "id": "NHeP7j3z-eya"
      }
    },
    {
      "cell_type": "markdown",
      "source": [
        "## Mas, o que é um Modelo ?\n",
        "Um modelo é o \"cérebro\" da IA, uma representação matemática que traduz o aprendizado adquirido com os dados para realizar previsões, classificações ou tomar decisões. Ele é o produto final do processo de aprendizado de máquina e serve para aplicar o conhecimento adquirido em novas situações.\n",
        "\n",
        "Por exemplo, um modelo de reconhecimento facial é treinado com milhares de imagens de rostos. Durante o treinamento, ele aprende padrões como a posição dos olhos, a forma do nariz e a estrutura do rosto. Após o treinamento, esse modelo poderá ser usado para identificar rostos em novas imagens, pois ele \"aprendeu\" a reconhecer as características mais comuns entre as imagens de treinamento."
      ],
      "metadata": {
        "id": "yL2MpMDL5rAk"
      }
    },
    {
      "cell_type": "markdown",
      "source": [
        "## Vamos desenvolver um modelo"
      ],
      "metadata": {
        "id": "1pe0_neDFyWS"
      }
    },
    {
      "cell_type": "markdown",
      "source": [
        "### Instalando as bibliotecas\n",
        "* **Keras é uma biblioteca de código aberto voltada para a criação e treinamento de modelos de aprendizado de máquina, especialmente redes neurais. Ela é conhecida pela simplicidade e facilidade de uso, permitindo que desenvolvedores construam modelos complexos com poucas linhas de código.** Keras funciona como uma interface de alto nível que pode ser integrada a backends poderosos, como TensorFlow, para realizar cálculos complexos e gerenciar os recursos computacionais necessários para o treinamento e a execução dos modelos.\n",
        "* **NumPy (Numerical Python) é uma biblioteca fundamental para computação científica em Python. Ela facilita o trabalho com arrays e matrizes de dados, permitindo realizar operações matemáticas e estatísticas de forma rápida e eficiente.** NumPy é essencial para aprendizado de máquina e ciência de dados, pois fornece as estruturas de dados e funções matemáticas necessárias para manipulação e processamento de grandes quantidades de dados numéricos, que servem de base para o treinamento dos modelos.\n"
      ],
      "metadata": {
        "id": "U04f6AcuKWrw"
      }
    },
    {
      "cell_type": "code",
      "source": [
        "!pip install keras\n",
        "!pip install numpy"
      ],
      "metadata": {
        "id": "5Foea8CMIunE"
      },
      "execution_count": null,
      "outputs": []
    },
    {
      "cell_type": "markdown",
      "source": [
        "### Criando o Modelo\n",
        "Para obter o conjunto de dados necessário, você pode baixar o arquivo `pima-indians-diabetes.csv` de uma das seguintes fontes:\n",
        "\n",
        "* [Fonte oficial no Kaggle](https://www.kaggle.com/datasets/kumargh/pimaindiansdiabetescsv)\n",
        "\n",
        "* [Repositório oficial desta oficina](https://github.com/Luis01Felipe/Oficina_de_IA)\n",
        "\n",
        "Após o download, salve o arquivo na área de trabalho para facilitar o acesso durante a oficina."
      ],
      "metadata": {
        "id": "IDuUHbroKeaW"
      }
    },
    {
      "cell_type": "code",
      "source": [
        "from numpy import loadtxt\n",
        "import numpy as np\n",
        "from keras.models import Sequential\n",
        "from keras.layers import Dense\n",
        "\n",
        "from google.colab import files\n",
        "uploaded = files.upload()\n",
        "\n",
        "# Carregar o dataset (ajustar caminho para o arquivo)\n",
        "dataset = loadtxt('/content/pima-indians-diabetes.csv', delimiter=',')\n",
        "\n",
        "# Separar os dados em entradas X e saída Y\n",
        "X = dataset[:, 0:8]\n",
        "y = dataset[:, 8]\n",
        "\n",
        "# Definir o modelo\n",
        "model = Sequential()\n",
        "model.add(Dense(12, input_dim=8, activation='relu'))\n",
        "model.add(Dense(8, activation='relu'))\n",
        "model.add(Dense(1, activation='sigmoid'))\n",
        "\n",
        "# Compilar o modelo\n",
        "model.compile(loss='binary_crossentropy', optimizer='adam', metrics=['accuracy'])\n",
        "\n",
        "# Treinar o modelo\n",
        "## Ajuste o verbose para 0 caso deseja apenas ver o modelo quando estiver pronto\n",
        "model.fit(X, y, epochs=1000, batch_size=100, verbose=1)\n",
        "\n",
        "# Avaliar o modelo\n",
        "_, accuracy = model.evaluate(X, y)\n",
        "print('Acurácia: %.2f' % (accuracy * 100))"
      ],
      "metadata": {
        "id": "hlia0AKKGlJ-"
      },
      "execution_count": null,
      "outputs": []
    },
    {
      "cell_type": "markdown",
      "source": [
        "#### `epochs`\n",
        "Um epoch é uma passagem completa por todo o conjunto de dados de treinamento. Se você define epochs=1000, significa que o modelo vai passar pelos dados inteiros mil vezes durante o treinamento. A cada epoch, o modelo ajusta seus pesos com base nos erros que ele cometeu na época anterior, gradativamente melhorando sua precisão.\n",
        "\n",
        "Quanto mais epochs, mais vezes o modelo ajusta seus pesos, o que pode resultar em uma melhor performance — mas em excesso, isso pode levar ao overfitting, ou seja, o modelo se adapta demais aos dados de treinamento e perde capacidade de generalizar para novos dados.\n",
        "\n",
        "#### `batch_size`\n",
        "O batch size é o número de amostras que o modelo processa antes de atualizar seus pesos. Em vez de calcular o erro e ajustar os pesos a cada exemplo individual (o que pode ser ineficiente) ou esperar até que todos os exemplos sejam processados, usamos batches para otimizar o treinamento.\n",
        "\n",
        "Com um batch size de 100, o modelo processa 100 exemplos de treinamento de uma vez e, em seguida, ajusta os pesos com base nos erros médios desses exemplos.\n",
        "Tamanhos de batch menores geralmente tornam o modelo mais preciso, pois ele faz atualizações frequentes, mas isso pode ser mais demorado. Já batches maiores aceleram o processo, mas podem deixar o modelo menos preciso para cada epoch.\n"
      ],
      "metadata": {
        "id": "KGoOGsxAMiaH"
      }
    },
    {
      "cell_type": "markdown",
      "source": [
        "# Rede Neural"
      ],
      "metadata": {
        "id": "yTNEtQbTBbik"
      }
    },
    {
      "cell_type": "markdown",
      "source": [],
      "metadata": {
        "id": "nYa49YZAPM6v"
      }
    },
    {
      "cell_type": "markdown",
      "source": [
        "# Deep Learning\n",
        "Subcampo do machine learning, utiliza-se de redes neurais para emular o cérebro humano."
      ],
      "metadata": {
        "id": "5X22rF8AFvTz"
      }
    },
    {
      "cell_type": "markdown",
      "source": [],
      "metadata": {
        "id": "OEPX3W6YPPCH"
      }
    },
    {
      "cell_type": "markdown",
      "source": [
        "# Vamos desenvolver uma IA\n",
        "** Explicar o que é cada biblioteca e como o programa funciona passo a passo"
      ],
      "metadata": {
        "id": "rQYgSglnCZIq"
      }
    },
    {
      "cell_type": "markdown",
      "source": [
        "Aperte com o botão direito sobre a placa abaixo e clique em `Salvar imagem`, salve na área de trabalho com o nome de `placa.png`\n",
        "![placa](https://grupootimiza.com.br/wp-content/uploads/2022/05/cinza-particular-1024x354.png)"
      ],
      "metadata": {
        "id": "zDTuocBNCd5w"
      }
    },
    {
      "cell_type": "code",
      "source": [
        "# Primeiro, instale o Tesseract OCR e o OpenCV\n",
        "!apt-get install -y tesseract-ocr\n",
        "!pip install pytesseract opencv-python-headless\n",
        "\n",
        "# Importa as bibliotecas necessárias\n",
        "import cv2\n",
        "import pytesseract\n",
        "from google.colab.patches import cv2_imshow\n",
        "from IPython.display import display, Image\n",
        "import numpy as np\n",
        "from google.colab import files"
      ],
      "metadata": {
        "id": "NRp5dBpjB4-m"
      },
      "execution_count": null,
      "outputs": []
    },
    {
      "cell_type": "code",
      "source": [
        "# Carrega a imagem da placa de carro\n",
        "uploaded = files.upload()  # Faça o upload da imagem da placa do carro aqui\n",
        "for filename in uploaded.keys():\n",
        "    img_path = filename\n",
        "\n",
        "# Lê a imagem com OpenCV\n",
        "img = cv2.imread(img_path)\n",
        "\n",
        "# Pré-processamento da imagem\n",
        "# Converte a imagem para escala de cinza\n",
        "gray = cv2.cvtColor(img, cv2.COLOR_BGR2GRAY)\n",
        "\n",
        "# Aplica um filtro de borrão para reduzir o ruído\n",
        "gray = cv2.GaussianBlur(gray, (5, 5), 0)\n",
        "\n",
        "# Usa a técnica de limiar adaptativo para melhorar o contraste do texto\n",
        "_, binary_img = cv2.threshold(gray, 0, 255, cv2.THRESH_BINARY + cv2.THRESH_OTSU)\n",
        "\n",
        "# Exibe a imagem processada\n",
        "print(\"Imagem processada para OCR:\")\n",
        "cv2_imshow(binary_img)\n",
        "\n",
        "# Extrai o texto da imagem usando Tesseract OCR\n",
        "text = pytesseract.image_to_string(binary_img, config='--psm 8')  # 'psm 8' para single word (ideal para placas)\n",
        "\n",
        "# Mostra o texto extraído\n",
        "print(\"Texto extraído da placa:\", text)\n"
      ],
      "metadata": {
        "id": "tSYynXFWB8P-"
      },
      "execution_count": null,
      "outputs": []
    },
    {
      "cell_type": "markdown",
      "source": [
        "# Veja Mais\n",
        "### Repositórios\n",
        "* [Repositório oficial desta oficina](https://github.com/Luis01Felipe/Oficina_de_IA)\n",
        "* [Projeto que utiliza de Machine Learning para prever a potabilidade da água](https://github.com/APS-s/Water-Potability-in-real-time)\n",
        "* [Projeto que utiliza IA para reconhecer rostos](https://github.com/APS-s/Analise-Facial-para-Protecao-Ambiental)\n",
        "\n",
        "### Canais do Youtube\n",
        "* [Universo Programado](https://www.youtube.com/@UniversoProgramado)\n",
        "* [Primer](https://www.youtube.com/@PrimerBlobs)\n",
        "* [Two Minute Papers](https://www.youtube.com/@TwoMinutePapers)\n",
        "* [AI Warehouse](https://www.youtube.com/@aiwarehouse)\n",
        "\n",
        "### Sites\n",
        "* [Brasil Escola](https://brasilescola.uol.com.br/informatica/inteligencia-artificial.htm)\n",
        "* [SAS](https://www.sas.com/pt_br/insights/analytics/machine-learning.html#:~:text=O%20aprendizado%20de%20m%C3%A1quina%20(em,o%20m%C3%ADnimo%20de%20interven%C3%A7%C3%A3o%20humana.)\n",
        "* [Baixe o `pima-indians-diabetes.csv`](https://www.kaggle.com/datasets/kumargh/pimaindiansdiabetescsv)"
      ],
      "metadata": {
        "id": "vHTwnb8W56Wu"
      }
    }
  ]
}