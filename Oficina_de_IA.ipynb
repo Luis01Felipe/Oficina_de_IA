{
  "nbformat": 4,
  "nbformat_minor": 0,
  "metadata": {
    "colab": {
      "provenance": [],
      "collapsed_sections": [
        "xCGPWIvw8MMt",
        "lc8Wbj5tthY5",
        "tCYb2SSO2IdI",
        "AcdIdelf8vpV",
        "2VtLo7kP6li5",
        "NHeP7j3z-eya",
        "1pe0_neDFyWS",
        "U04f6AcuKWrw",
        "IDuUHbroKeaW",
        "K56Z0YU_9O3f",
        "tY5uo8A49elJ",
        "yTNEtQbTBbik",
        "5X22rF8AFvTz",
        "buaILHG7m94-",
        "NruVZZlqpeKY",
        "XlBpsLnR-I1j",
        "rQYgSglnCZIq",
        "Bgvpu_UPrmN4",
        "f94pDFIUsNgW",
        "vHTwnb8W56Wu"
      ],
      "authorship_tag": "ABX9TyO+9DLHDqRtK+yhfGUYxXbX",
      "include_colab_link": true
    },
    "kernelspec": {
      "name": "python3",
      "display_name": "Python 3"
    },
    "language_info": {
      "name": "python"
    }
  },
  "cells": [
    {
      "cell_type": "markdown",
      "metadata": {
        "id": "view-in-github",
        "colab_type": "text"
      },
      "source": [
        "<a href=\"https://colab.research.google.com/github/Luis01Felipe/Oficina_de_IA/blob/main/Oficina_de_IA.ipynb\" target=\"_parent\"><img src=\"https://colab.research.google.com/assets/colab-badge.svg\" alt=\"Open In Colab\"/></a>"
      ]
    },
    {
      "cell_type": "markdown",
      "source": [
        "**Este material foi desenvolvido para a Semana Tecnológica da Universidade Paulista (UNIP), com o objetivo de ensinar conceitos de Inteligência Artificial aos alunos dos cursos de Ciência da Computação e Análise e Desenvolvimento de Sistemas, na unidade Paraíso.**\n",
        "\n",
        "\n",
        "[Acesse todo o conteúdo através do repositório oficial desta oficina no Github](https://github.com/Luis01Felipe/Oficina_de_IA)"
      ],
      "metadata": {
        "id": "FsLhNcnNPSYU"
      }
    },
    {
      "cell_type": "markdown",
      "source": [
        "# Introdução à Inteligência Artificial (IA)"
      ],
      "metadata": {
        "id": "xCGPWIvw8MMt"
      }
    },
    {
      "cell_type": "markdown",
      "source": [
        "## O que é uma Inteligência Artificial (IA) ?\n",
        "\n",
        "A inteligência artificial é um campo da ciência da computação que se dedica ao estudo e ao desenvolvimento de máquinas e programas computacionais capazes de reproduzir o comportamento humano na tomada de decisões e na realização de tarefas, desde as mais simples até as mais complexas. Funcionam mediante análise de um grande volume de dados e identificação de padrões, o que é feito por meio de métodos diversos, como o machine learning e o deep learning."
      ],
      "metadata": {
        "id": "lc8Wbj5tthY5"
      }
    },
    {
      "cell_type": "markdown",
      "source": [
        "### Mas, o que é inteligência ?\n",
        "Segundo o dicionário, inteligência é a capacidade de compreender e resolver novos problemas, adaptar-se a novas situações e tomar decisões com base em conhecimento adquirido. Porém, podemos ir além: inteligência também envolve a habilidade de aprender, reconhecer padrões e aplicar esses conhecimentos de forma eficaz. Dizemos que uma pessoa é inteligente quando consegue, por exemplo, identificar rapidamente como usar uma fórmula matemática apenas observando-a, compreendendo quando e onde aplicá-la. Assim, inteligência pode ser entendida como a maneira pela qual aplicamos o conhecimento para resolver problemas e tomar decisões.\n",
        "\n",
        "Isso nos leva a uma outra questão: o que é conhecimento? Segundo o dicionário, conhecimento é a capacidade de entender e compreender as coisas. No contexto de computação, podemos pensar no conhecimento como o resultado da interpretação e compreensão de informações.\n",
        "\n",
        "Mas, então, o que são informações? Elas são, essencialmente, dados organizados de forma que façam sentido. Dados, por sua vez, são registros brutos sobre o mundo ao nosso redor – como horários, números e eventos. Por exemplo, se soubermos que o ônibus passa às 8h30, o horário de entrada no trabalho é às 9h00, e que o trajeto leva 30 minutos, esses são dados. Quando analisamos esses dados juntos, compreendemos que devemos pegar o ônibus às 8h30 para chegar ao trabalho pontualmente. Essa compreensão é o que chamamos de conhecimento.\n",
        "\n",
        "Portanto, inteligência é o passo além: é a aplicação desse conhecimento para tomar decisões estratégicas, resolver problemas complexos e adaptar-se a novas situações. Na computação, transformar dados em informações e informações em inteligência é o que torna os sistemas verdadeiramente úteis, permitindo que façam análises e previsões cada vez mais sofisticadas."
      ],
      "metadata": {
        "id": "c8RvuteJuw23"
      }
    },
    {
      "cell_type": "markdown",
      "source": [
        "### Mas, o que é artificial?\n",
        "Segundo o dicionário, é aquilo que é produzido pela mão do homem, não pela natureza. Ou seja, aquilo que não é natural."
      ],
      "metadata": {
        "id": "n0W1buYEy52u"
      }
    },
    {
      "cell_type": "markdown",
      "source": [
        "### Concluindo\n",
        "Com base no que discutimos, podemos concluir que uma Inteligência Artificial é um software criado pelo ser humano com a capacidade de adquirir e aprender a partir de dados, transformando-os em informações úteis. A partir dessas informações, ela constrói conhecimento, que, por sua vez, é aplicado para resolver problemas e tomar decisões.\n",
        "\n",
        "\n",
        "---\n",
        "\n",
        "\n",
        "**NOTA**: Um software é um conjunto de instruções ou programas que permitem que um computador ou outro dispositivo execute tarefas específicas. Ele é a parte lógica e imaterial de um dispositivo, enquanto o hardware é a parte física."
      ],
      "metadata": {
        "id": "iqEGIJ3V0ECx"
      }
    },
    {
      "cell_type": "markdown",
      "source": [
        "## Exemplos de Inteligências Artificiais (IAs)\n",
        "\n",
        "\n"
      ],
      "metadata": {
        "id": "tCYb2SSO2IdI"
      }
    },
    {
      "cell_type": "markdown",
      "source": [
        "### ChatGPT\n",
        "Provavelmente o exemplo de IA mais conhecido atualmente, o ChatGPT (abreviação de *Generative Pre-trained Transformer*, ou transformador pré-treinado generativo) é uma IA desenvolvida pela OpenAI que simula conversas humanas. Ele permite que os usuários façam perguntas e recebam respostas detalhadas sobre uma ampla variedade de tópicos.\n",
        "\n",
        "![Imagem do ChatGPT](https://chatgpt.com.br/wp-content/uploads/2023/03/chatgpt-screen.jpg)"
      ],
      "metadata": {
        "id": "5cXjJYUr6AUE"
      }
    },
    {
      "cell_type": "markdown",
      "source": [
        "### DALL-E 2\n",
        "Outra IA desenvolvida pela OpenAI, o DALL-E 2 possui uma função diferente do ChatGPT: ele transforma descrições em linguagem natural em imagens. Basta o usuário fazer um pedido em texto, como \"um astronauta montado em um cavalo\", e o DALL-E 2 gera uma imagem com base nessa descrição. Ele é especialmente útil para criar ilustrações únicas a partir de ideias criativas.\n",
        "\n",
        "\n",
        "---\n",
        "\n",
        "\n",
        "**Nota**: A linguagem natural refere-se a qualquer idioma desenvolvido espontaneamente pelo ser humano, como o português, inglês ou línguas de sinais.\n",
        "![Imagem do DALL-E 2](https://images.ctfassets.net/kftzwdyauwt9/5GOIjwbUjLZHoGhX6q5oQg/d2984681d2a9466b71b7ca7632a8481c/Anastronautridingahorseinaphotorealisticstyle0.jpg)\n"
      ],
      "metadata": {
        "id": "kW6FRmld6Da7"
      }
    },
    {
      "cell_type": "markdown",
      "source": [
        "### AMD FSR e Nvidia DLSS\n",
        "As tecnologias AMD FidelityFX Super Resolution (FSR) e Nvidia Deep Learning Super Sampling (DLSS) são exemplos de IAs que atuam na melhoria gráfica em jogos. Ambas utilizam inteligência artificial para aprimorar a qualidade da imagem e a taxa de quadros, permitindo que jogos tenham um desempenho melhor em configurações de hardware mais modestas. Embora sejam diferentes na abordagem, ambas compartilham o objetivo de otimizar a experiência visual dos jogadores.\n",
        "\n",
        "![Imagem do AMD FSR](https://www.adrenaline.com.br/wp-content/uploads/2023/09/AMD-FSR-3-Gamescom-blog-Performance-1200x675.jpg)"
      ],
      "metadata": {
        "id": "AaUL8XFx6FhB"
      }
    },
    {
      "cell_type": "markdown",
      "source": [
        "# Algoritmos e Modelos de IA"
      ],
      "metadata": {
        "id": "AcdIdelf8vpV"
      }
    },
    {
      "cell_type": "markdown",
      "source": [
        "## Algoritmos Especializados\n",
        "Você percebeu que a Cortana do Windows, a Alexa da Amazon e o Google Assistente não apareceram nos exemplos anteriores, apesar de serem bastante populares? Isso ocorre porque esses assistentes virtuais são conhecidos como algoritmos especializados. Eles têm uma função mais específica e são projetados para realizar tarefas em domínios limitados, ao contrário de IAs mais generalistas como o ChatGPT e o DALL-E.\n",
        "\n",
        "\n"
      ],
      "metadata": {
        "id": "2VtLo7kP6li5"
      }
    },
    {
      "cell_type": "markdown",
      "source": [
        "### O que são Algoritmos Especializados?\n",
        "Algoritmos especializados são sistemas de inteligência artificial que se concentram em resolver problemas específicos ou realizar tarefas bem definidas, com um conjunto de funcionalidades limitadas, mas altamente otimizadas. Esse tipo de IA é amplamente utilizado em assistentes virtuais, que são projetados para facilitar ações do cotidiano, como configurar alarmes, responder a perguntas triviais, fornecer direções e controlar dispositivos conectados.\n"
      ],
      "metadata": {
        "id": "FFC71U0D7oBF"
      }
    },
    {
      "cell_type": "markdown",
      "source": [
        "### Diferenças\n",
        "\n",
        "\n",
        "\n",
        "\n",
        "\n",
        "\n",
        "\n",
        "\n"
      ],
      "metadata": {
        "id": "v1d0mWYN9Cfo"
      }
    },
    {
      "cell_type": "markdown",
      "source": [
        "#### Algoritmos Especializados\n",
        "Esses algoritmos geralmente usam técnicas de reconhecimento de fala e processamento de linguagem natural (PLN), combinadas com bancos de dados estruturados e comandos predefinidos. O aprendizado dessas IAs é restrito, operando dentro de um escopo limitado e em tarefas específicas. Por exemplo, a Alexa é excelente para controlar dispositivos de casa inteligente e responder a perguntas simples, mas não consegue sustentar conversas complexas ou realizar análises avançadas."
      ],
      "metadata": {
        "id": "r60KUxeI864i"
      }
    },
    {
      "cell_type": "markdown",
      "source": [
        "\n",
        "#### IAs Generalistas\n",
        "As IAs generalistas são baseadas em modelos de aprendizado profundo, como redes neurais complexas, que processam grandes volumes de dados não estruturados e possuem camadas de processamento mais profundas. Com uma ampla capacidade de resposta e adaptabilidade, essas IAs são desenvolvidas para interpretar, gerar e adaptar conteúdos variados, desde texto até imagens e áudio, em diversos contextos. Por exemplo, o ChatGPT pode responder perguntas complexas, ajudar em problemas de programação e até fornecer conselhos detalhados em diferentes áreas.\n"
      ],
      "metadata": {
        "id": "3NhFJy7T89BH"
      }
    },
    {
      "cell_type": "markdown",
      "source": [
        "## Aprendizado de Máquina\n",
        "O aprendizado de máquina (em inglês, machine learning) é um método de análise de dados que automatiza a construção de modelos analíticos. Ele faz parte da inteligência artificial e se baseia na ideia de que sistemas podem aprender com dados, identificar padrões e tomar decisões com o mínimo de intervenção humana. A IA reconhece e reproduz padrões com base na experiência anterior, que é adquirida ao processar dados usando algoritmos específicos. Ou seja, o computador analisa os dados em busca de padrões, e, a partir desses padrões, constrói um modelo que poderá ser usado em novas análises.\n",
        "\n",
        "Um exemplo é o reconhecimento facial: a máquina \"aprende\" a reconhecer rostos, identificando características comuns nas imagens de rostos já processadas. Esse aprendizado permite que ela identifique rostos em imagens futuras com alta precisão."
      ],
      "metadata": {
        "id": "NHeP7j3z-eya"
      }
    },
    {
      "cell_type": "markdown",
      "source": [
        "### Mas, o que é um Modelo ?\n",
        "Um modelo é o \"cérebro\" da IA, uma representação matemática que traduz o aprendizado adquirido com os dados para realizar previsões, classificações ou tomar decisões. Ele é o produto final do processo de aprendizado de máquina e serve para aplicar o conhecimento adquirido em novas situações.\n",
        "\n",
        "Por exemplo, um modelo de reconhecimento facial é treinado com milhares de imagens de rostos. Durante o treinamento, ele aprende padrões como a posição dos olhos, a forma do nariz e a estrutura do rosto. Após o treinamento, esse modelo poderá ser usado para identificar rostos em novas imagens, pois ele \"aprendeu\" a reconhecer as características mais comuns entre as imagens de treinamento."
      ],
      "metadata": {
        "id": "yL2MpMDL5rAk"
      }
    },
    {
      "cell_type": "markdown",
      "source": [
        "### Vamos desenvolver um modelo"
      ],
      "metadata": {
        "id": "1pe0_neDFyWS"
      }
    },
    {
      "cell_type": "markdown",
      "source": [
        "#### Instalando as bibliotecas\n",
        "* **Keras é uma biblioteca de código aberto voltada para a criação e treinamento de modelos de aprendizado de máquina, especialmente redes neurais. Ela é conhecida pela simplicidade e facilidade de uso, permitindo que desenvolvedores construam modelos complexos com poucas linhas de código.** Keras funciona como uma interface de alto nível que pode ser integrada a backends poderosos, como TensorFlow, para realizar cálculos complexos e gerenciar os recursos computacionais necessários para o treinamento e a execução dos modelos.\n",
        "* **NumPy (Numerical Python) é uma biblioteca fundamental para computação científica em Python. Ela facilita o trabalho com arrays e matrizes de dados, permitindo realizar operações matemáticas e estatísticas de forma rápida e eficiente.** NumPy é essencial para aprendizado de máquina e ciência de dados, pois fornece as estruturas de dados e funções matemáticas necessárias para manipulação e processamento de grandes quantidades de dados numéricos, que servem de base para o treinamento dos modelos.\n"
      ],
      "metadata": {
        "id": "U04f6AcuKWrw"
      }
    },
    {
      "cell_type": "code",
      "source": [
        "!pip install keras\n",
        "!pip install numpy"
      ],
      "metadata": {
        "id": "5Foea8CMIunE"
      },
      "execution_count": null,
      "outputs": []
    },
    {
      "cell_type": "markdown",
      "source": [
        "#### Criando o Modelo\n",
        "\n",
        "Para obter o conjunto de dados necessário, você pode baixar o arquivo `pima-indians-diabetes.csv` de uma das seguintes fontes:\n",
        "\n",
        "* [Fonte oficial no Kaggle](https://www.kaggle.com/datasets/kumargh/pimaindiansdiabetescsv)\n",
        "\n",
        "* [Repositório oficial desta oficina](https://github.com/Luis01Felipe/Oficina_de_IA)\n",
        "\n",
        "Após o download, salve o arquivo na área de trabalho para facilitar o acesso durante a oficina."
      ],
      "metadata": {
        "id": "IDuUHbroKeaW"
      }
    },
    {
      "cell_type": "code",
      "source": [
        "from numpy import loadtxt\n",
        "import numpy as np\n",
        "from keras.models import Sequential\n",
        "from keras.layers import Dense\n",
        "\n",
        "from google.colab import files\n",
        "uploaded = files.upload()\n",
        "\n",
        "# Carregar o dataset (ajustar caminho para o arquivo)\n",
        "dataset = loadtxt('/content/pima-indians-diabetes.csv', delimiter=',')\n",
        "\n",
        "# Separar os dados em entradas X e saída Y\n",
        "X = dataset[:, 0:8]\n",
        "y = dataset[:, 8]\n",
        "\n",
        "# Definir o modelo\n",
        "model = Sequential()\n",
        "model.add(Dense(12, input_dim=8, activation='relu'))\n",
        "model.add(Dense(8, activation='relu'))\n",
        "model.add(Dense(1, activation='sigmoid'))\n",
        "\n",
        "# Compilar o modelo\n",
        "model.compile(loss='binary_crossentropy', optimizer='adam', metrics=['accuracy'])\n",
        "\n",
        "# Treinar o modelo\n",
        "## Ajuste o verbose para 0 caso deseje ver o modelo apenas quando estiver pronto\n",
        "model.fit(X, y, epochs=1000, batch_size=100, verbose=1)\n",
        "\n",
        "# Avaliar o modelo\n",
        "_, accuracy = model.evaluate(X, y)\n",
        "print('Acurácia: %.2f' % (accuracy * 100))"
      ],
      "metadata": {
        "id": "hlia0AKKGlJ-"
      },
      "execution_count": null,
      "outputs": []
    },
    {
      "cell_type": "markdown",
      "source": [
        "##### Parâmetros principais"
      ],
      "metadata": {
        "id": "K56Z0YU_9O3f"
      }
    },
    {
      "cell_type": "markdown",
      "source": [
        "###### `epochs`\n",
        "Um epoch é uma passagem completa por todo o conjunto de dados de treinamento. Se você define epochs=1000, significa que o modelo vai passar pelos dados inteiros mil vezes durante o treinamento. A cada epoch, o modelo ajusta seus pesos com base nos erros que ele cometeu na época anterior, gradativamente melhorando sua precisão.\n",
        "\n",
        "Quanto mais epochs, mais vezes o modelo ajusta seus pesos, o que pode resultar em uma melhor performance — mas em excesso, isso pode levar ao overfitting, ou seja, o modelo se adapta demais aos dados de treinamento e perde capacidade de generalizar para novos dados.\n",
        "\n",
        "###### `batch_size`\n",
        "O batch size é o número de amostras que o modelo processa antes de atualizar seus pesos. Em vez de calcular o erro e ajustar os pesos a cada exemplo individual (o que pode ser ineficiente) ou esperar até que todos os exemplos sejam processados, usamos batches para otimizar o treinamento.\n",
        "\n",
        "Com um batch size de 100, o modelo processa 100 exemplos de treinamento de uma vez e, em seguida, ajusta os pesos com base nos erros médios desses exemplos.\n",
        "Tamanhos de batch menores geralmente tornam o modelo mais preciso, pois ele faz atualizações frequentes, mas isso pode ser mais demorado. Já batches maiores aceleram o processo, mas podem deixar o modelo menos preciso para cada epoch.\n"
      ],
      "metadata": {
        "id": "KGoOGsxAMiaH"
      }
    },
    {
      "cell_type": "markdown",
      "source": [
        "# Redes Neurais e Aprendizado Profundo\n"
      ],
      "metadata": {
        "id": "tY5uo8A49elJ"
      }
    },
    {
      "cell_type": "markdown",
      "source": [
        "## Rede Neural\n",
        "Uma rede neural artificial é um modelo computacional inspirado no funcionamento do cérebro humano. Assim como o cérebro é formado por neurônios interconectados que processam informações, redes neurais artificiais consistem em camadas de “neurônios” ou nós conectados entre si, capazes de processar dados e identificar padrões complexos. Esses modelos são amplamente utilizados em inteligência artificial (IA) para realizar tarefas que envolvem reconhecimento de padrões, como classificação de imagens, tradução de linguagem e predição de séries temporais."
      ],
      "metadata": {
        "id": "yTNEtQbTBbik"
      }
    },
    {
      "cell_type": "markdown",
      "source": [
        "### Estrutura\n",
        "* **Camada de Entrada**: Recebe os dados brutos, como imagens, sons ou texto. Cada nó\n",
        "dessa camada representa uma característica ou valor específico dos dados.\n",
        "* **Camadas Ocultas**: Processam as informações, aplicando operações matemáticas que permitem que o modelo aprenda padrões complexos. Quanto mais camadas ocultas, mais complexa a rede, permitindo o aprendizado de padrões mais elaborados.\n",
        "* **Camada de Saída**: Gera o resultado final, seja uma classificação, como identificar se uma imagem contém um cachorro ou um gato, ou uma previsão numérica, como o valor de uma ação.\n"
      ],
      "metadata": {
        "id": "nYa49YZAPM6v"
      }
    },
    {
      "cell_type": "markdown",
      "source": [
        "### Processamento\n",
        "Cada nó em uma rede neural realiza operações matemáticas usando pesos e biases. O processo envolve:\n",
        "\n",
        "* **Multiplicação por Pesos**: Cada entrada é multiplicada por um valor chamado peso. Esse peso representa a importância da entrada no processo de decisão.\n",
        "* **Somatório e Bias**: Os resultados das multiplicações são somados e, em seguida, um valor chamado bias é adicionado para ajustar o resultado final.\n",
        "* **Função de Ativação**: Esse somatório passa por uma função de ativação, que introduz não linearidade e permite que a rede aprenda padrões complexos. As funções mais comuns são sigmoide, ReLU (Rectified Linear Unit) e tangente hiperbólica.\n",
        "\n",
        "Esse processamento ocorre em cada camada da rede neural, ajustando os pesos e biases para que o modelo faça previsões mais precisas.\n",
        "\n",
        "![Redes Neurais](https://didatica.tech/wp-content/uploads/2020/07/image-2.png)\n"
      ],
      "metadata": {
        "id": "FnDe3apNiJUp"
      }
    },
    {
      "cell_type": "markdown",
      "source": [
        "### Treinamento\n",
        "O treinamento de uma rede neural é o processo de ajuste dos pesos e biases para minimizar o erro nas previsões. Esse processo geralmente envolve:\n",
        "\n",
        "* **Forward Propagation**: O cálculo do valor de saída com base nos pesos e nas entradas iniciais.\n",
        "* **Função de Custo**: Calcula a diferença entre a saída prevista e a saída real, gerando o erro do modelo.\n",
        "* **Backpropagation**: Um método de ajuste que propaga o erro de volta pelas camadas, atualizando os pesos de cada nó para reduzir o erro.\n",
        "\n",
        "Esses ajustes são realizados repetidamente até que a rede alcance um nível de precisão aceitável.\n",
        "\n"
      ],
      "metadata": {
        "id": "rWoQenEcisnZ"
      }
    },
    {
      "cell_type": "markdown",
      "source": [
        "## Aprendizado Profundo\n",
        "O aprendizado profundo (em ingles, deep learning) é um ramo avançado do machine learning que permite que modelos de IA analisem dados complexos e não estruturados, como imagens, sons e textos. Ele é inspirado na estrutura e funcionamento do cérebro humano, utilizando redes neurais profundas, que são compostas por várias camadas de neurônios artificiais. Essas camadas funcionam de forma hierárquica, em que cada uma analisa um aspecto dos dados e passa a informação processada para a camada seguinte."
      ],
      "metadata": {
        "id": "5X22rF8AFvTz"
      }
    },
    {
      "cell_type": "markdown",
      "source": [
        "### Estrutura\n",
        "* **Camada de Entrada**: É composta pelos nós que recebem os dados brutos que serão analisados pela rede. Cada nó representa uma característica ou um valor específico dos dados, como um pixel em uma imagem ou uma variável em um conjunto de dados. É por meio dessa camada que a rede neural inicia o processamento, recebendo e organizando as informações para que possam ser compreendidas pelas camadas seguintes.\n",
        "\n",
        "* **Camadas Ocultas**: São o núcleo do processamento em uma rede de aprendizado profundo. Elas recebem os dados da camada de entrada e, através de diversas transformações e operações matemáticas, começam a interpretar e extrair padrões cada vez mais complexos dos dados. Cada camada oculta lida com uma característica específica e seu nível de detalhamento aumenta conforme os dados passam de uma camada para outra.\n",
        "\n",
        "* **Camada de Saída**: É o ponto final da rede e representa a resposta final do modelo. Ela recebe os dados processados pelas camadas ocultas e gera a saída com base nos objetivos do modelo. Em redes de classificação, por exemplo, a camada de saída indica a classe à qual o dado pertence (como identificar se uma imagem contém um gato ou um cachorro). Em problemas binários, como perguntas de \"sim\" ou \"não\", a camada de saída possui dois nós. Em problemas mais complexos, que exigem uma gama maior de respostas, o número de nós na camada de saída é ajustado para refletir o número de opções possíveis.\n",
        "\n"
      ],
      "metadata": {
        "id": "wFqliemIlCZh"
      }
    },
    {
      "cell_type": "markdown",
      "source": [
        "### Processamento\n",
        "As redes neurais profundas processam informações usando diversas camadas ocultas que atuam em sequência, cada uma refinando e transformando os dados de forma mais abstrata. Esse tipo de processamento é intensivo e requer alto poder computacional, especialmente quando lidamos com dados não estruturados, como imagens, áudios ou textos. A execução de cada camada oculta realiza cálculos complexos, ajustando os pesos e os parâmetros para otimizar a precisão do modelo.\n",
        "\n",
        "![Imagem](https://blogdozouza.wordpress.com/wp-content/uploads/2019/09/92bc7-1mtfoj80ml30qajmcg_-7ga.png?w=2710&h=1272)\n"
      ],
      "metadata": {
        "id": "buaILHG7m94-"
      }
    },
    {
      "cell_type": "markdown",
      "source": [
        "#### Então o processamento de **Redes Neurais** e **Aprendizado Profundo** é basicamente a mesma coisa?\n",
        "\n",
        "Sim, eles seguem a mesma lógica fundamental: multiplicação por pesos, somatório com bias e passagem por uma função de ativação para introduzir não linearidade. Ambos os tipos de redes ajustam esses pesos e biases ao longo do treinamento para melhorar a precisão nas previsões.\n",
        "\n",
        "A principal diferença está na profundidade e na complexidade das redes profundas. Em redes de aprendizado profundo, há várias camadas ocultas (muitas vezes centenas), o que permite ao modelo aprender padrões em níveis mais complexos e abstratos, algo difícil para redes neurais com poucas camadas. Com essa profundidade, redes de aprendizado profundo conseguem resolver problemas como visão computacional e processamento de linguagem natural, que requerem reconhecimento de padrões em uma escala bem maior e mais detalhada."
      ],
      "metadata": {
        "id": "oKshmuEO9s2H"
      }
    },
    {
      "cell_type": "markdown",
      "source": [
        "### Comparação: Aprendizado Profundo x Aprendizado de Máquina\n",
        "O aprendizado profundo supera o machine learning tradicional em sua capacidade de processar dados complexos e não estruturados, como imagens ou textos, sem necessidade de intervenção humana para definir características específicas. Com redes neurais profundas, o sistema aprende automaticamente quais atributos priorizar, o que possibilita a identificação de padrões mais detalhados e sutis e permite que o modelo ofereça insights além do que foi especificamente treinado para reconhecer.\n",
        "\n",
        "Além disso, as redes de aprendizado profundo podem funcionar de forma autônoma com dados não rotulados e até adaptar-se a novos contextos com base no comportamento do usuário. Isso as torna ideais para aplicações que exigem reconhecimento adaptativo e análise preditiva, como sugestão de produtos, correção de texto e detecção de fraudes em sistemas financeiros.\n",
        "\n",
        "![Imagem](https://uploads-ssl.webflow.com/5e6b6ac0d1fd2b1f242cc0cb/5f213db7c7763a9288759ad1_5eac2d0ef117c236e34cc0ff_DeepLearning.jpg)"
      ],
      "metadata": {
        "id": "OEPX3W6YPPCH"
      }
    },
    {
      "cell_type": "markdown",
      "source": [
        "### Modificando o modelo anterior para Aprendizado Profundo\n",
        "Para adaptar esse código para um modelo de aprendizado profundo (deep learning), podemos aumentar o número de camadas ocultas e os neurônios em cada camada, tornando a rede mais profunda. Isso permite que o modelo capture padrões mais complexos nos dados. Além disso, para evitar o overfitting, é comum adicionar camadas de regularização, como Dropout, que desativam aleatoriamente alguns neurônios durante o treinamento.\n",
        "\n"
      ],
      "metadata": {
        "id": "NruVZZlqpeKY"
      }
    },
    {
      "cell_type": "code",
      "source": [
        "from numpy import loadtxt\n",
        "import numpy as np\n",
        "from keras.models import Sequential\n",
        "from keras.layers import Dense, Dropout\n",
        "from google.colab import files\n",
        "\n",
        "# Carregar o arquivo\n",
        "uploaded = files.upload()\n",
        "\n",
        "# Carregar o dataset\n",
        "dataset = loadtxt('/content/pima-indians-diabetes.csv', delimiter=',')\n",
        "\n",
        "# Separar os dados em entradas X e saída y\n",
        "X = dataset[:, 0:8]\n",
        "y = dataset[:, 8]\n",
        "\n",
        "# Definir o modelo (deep learning)\n",
        "model = Sequential()\n",
        "model.add(Dense(64, input_dim=8, activation='relu'))  # Primeira camada oculta com mais neurônios\n",
        "model.add(Dropout(0.2))  # Adiciona uma camada de Dropout com 20% de desativação\n",
        "model.add(Dense(32, activation='relu'))  # Segunda camada oculta\n",
        "model.add(Dropout(0.2))  # Dropout novamente\n",
        "model.add(Dense(16, activation='relu'))  # Terceira camada oculta\n",
        "model.add(Dense(1, activation='sigmoid'))  # Camada de saída para classificação binária\n",
        "\n",
        "# Compilar o modelo com as mesmas configurações\n",
        "model.compile(loss='binary_crossentropy', optimizer='adam', metrics=['accuracy'])\n",
        "\n",
        "# Treinar o modelo\n",
        "## Ajuste o verbose para 0 caso deseje ver o modelo apenas quando estiver pronto\n",
        "model.fit(X, y, epochs=1000, batch_size=100, verbose=1)\n",
        "\n",
        "# Avaliar o modelo\n",
        "_, accuracy = model.evaluate(X, y)\n",
        "print('Acurácia: %.2f' % (accuracy * 100))\n"
      ],
      "metadata": {
        "id": "XwJDZh4oqCye"
      },
      "execution_count": null,
      "outputs": []
    },
    {
      "cell_type": "markdown",
      "source": [
        "# Conclusão e Desenvolvimento Prático"
      ],
      "metadata": {
        "id": "XlBpsLnR-I1j"
      }
    },
    {
      "cell_type": "markdown",
      "source": [
        "## Resumindo\n",
        "![Imagem](https://neigrando.com/wp-content/uploads/2022/06/diagrama-ia-ml-dl-ds.png)"
      ],
      "metadata": {
        "id": "dl6JkmSao_wC"
      }
    },
    {
      "cell_type": "markdown",
      "source": [
        "## Vamos desenvolver uma IA\n",
        "Esse código configura o ambiente para realizar Reconhecimento Óptico de Caracteres (OCR), um processo de extração de texto a partir de imagens. Ele usa o Tesseract, uma ferramenta popular para OCR, em conjunto com a biblioteca OpenCV, que é amplamente utilizada para manipulação de imagens. Abaixo, detalho o funcionamento de cada linha e o papel de algumas bibliotecas:"
      ],
      "metadata": {
        "id": "rQYgSglnCZIq"
      }
    },
    {
      "cell_type": "markdown",
      "source": [
        "Aperte com o botão direito sobre a placa abaixo e clique em `Salvar imagem`, salve na área de trabalho com o nome de `placa.png`\n",
        "![placa](https://grupootimiza.com.br/wp-content/uploads/2022/05/cinza-particular-1024x354.png)"
      ],
      "metadata": {
        "id": "zDTuocBNCd5w"
      }
    },
    {
      "cell_type": "markdown",
      "source": [
        "### Instalando as bibliotecas\n",
        "* **cv2 (OpenCV)** é essencial para a manipulação de imagens. Permite a leitura, edição e processamento de imagens, como converter para escala de cinza, ajustar o contraste e realizar outros ajustes para melhorar a precisão do OCR.\n",
        "* **pytesseract** é a ponte entre o Tesseract OCR e o Python. Ele permite que o Python se comunique com o Tesseract, executando o OCR em imagens e retornando o texto reconhecido.\n",
        "* **google.colab.patches.cv2_imshow** é uma função específica do Google Colab que permite exibir imagens usando OpenCV dentro do notebook, já que a função padrão cv2.imshow() não funciona diretamente no Colab.\n",
        "* **IPython.display.Image** é utilizado para exibir imagens no ambiente Jupyter ou Google Colab."
      ],
      "metadata": {
        "id": "Bgvpu_UPrmN4"
      }
    },
    {
      "cell_type": "code",
      "source": [
        "# Primeiro, instale o Tesseract OCR e o OpenCV\n",
        "!apt-get install -y tesseract-ocr\n",
        "!pip install pytesseract opencv-python-headless\n",
        "\n",
        "# Importa as bibliotecas necessárias\n",
        "import cv2\n",
        "import pytesseract\n",
        "from google.colab.patches import cv2_imshow\n",
        "from IPython.display import display, Image\n",
        "import numpy as np\n",
        "from google.colab import files"
      ],
      "metadata": {
        "id": "NRp5dBpjB4-m"
      },
      "execution_count": null,
      "outputs": []
    },
    {
      "cell_type": "markdown",
      "source": [
        "### Criando o Modelo\n",
        "Para obter o conjunto de dados necessário, você pode baixar o arquivo `pima-indians-diabetes.csv` de uma das seguintes fontes:\n",
        "\n",
        "* [Fonte oficial no Kaggle](https://www.kaggle.com/datasets/kumargh/pimaindiansdiabetescsv)\n",
        "\n",
        "* [Repositório oficial desta oficina](https://github.com/Luis01Felipe/Oficina_de_IA)\n",
        "\n",
        "Após o download, salve o arquivo na área de trabalho para facilitar o acesso durante a oficina."
      ],
      "metadata": {
        "id": "f94pDFIUsNgW"
      }
    },
    {
      "cell_type": "code",
      "source": [
        "# Carrega a imagem da placa de carro\n",
        "uploaded = files.upload()  # Faça o upload da imagem da placa do carro aqui\n",
        "for filename in uploaded.keys():\n",
        "    img_path = filename\n",
        "\n",
        "# Lê a imagem com OpenCV\n",
        "img = cv2.imread(img_path)\n",
        "\n",
        "# Pré-processamento da imagem\n",
        "# Converte a imagem para escala de cinza\n",
        "gray = cv2.cvtColor(img, cv2.COLOR_BGR2GRAY)\n",
        "\n",
        "# Aplica um filtro de borrão para reduzir o ruído\n",
        "gray = cv2.GaussianBlur(gray, (5, 5), 0)\n",
        "\n",
        "# Usa a técnica de limiar adaptativo para melhorar o contraste do texto\n",
        "_, binary_img = cv2.threshold(gray, 0, 255, cv2.THRESH_BINARY + cv2.THRESH_OTSU)\n",
        "\n",
        "# Exibe a imagem processada\n",
        "print(\"Imagem processada para OCR:\")\n",
        "cv2_imshow(binary_img)\n",
        "\n",
        "# Extrai o texto da imagem usando Tesseract OCR\n",
        "text = pytesseract.image_to_string(binary_img, config='--psm 8')  # 'psm 8' para single word (ideal para placas)\n",
        "\n",
        "# Mostra o texto extraído\n",
        "print(\"Texto extraído da placa:\", text)\n"
      ],
      "metadata": {
        "id": "tSYynXFWB8P-"
      },
      "execution_count": null,
      "outputs": []
    },
    {
      "cell_type": "markdown",
      "source": [
        "# Veja Mais\n"
      ],
      "metadata": {
        "id": "vHTwnb8W56Wu"
      }
    },
    {
      "cell_type": "markdown",
      "source": [
        "## Repositórios\n",
        "* [Repositório oficial desta oficina](https://github.com/Luis01Felipe/Oficina_de_IA)\n",
        "* [Projeto que utiliza de Machine Learning para prever a potabilidade da água](https://github.com/APS-s/Water-Potability-in-real-time)\n",
        "* [Projeto que utiliza IA para reconhecer rostos](https://github.com/APS-s/Analise-Facial-para-Protecao-Ambiental)"
      ],
      "metadata": {
        "id": "AR9hd8KY-qQJ"
      }
    },
    {
      "cell_type": "markdown",
      "source": [
        "## Canais do Youtube\n",
        "* [Universo Programado](https://www.youtube.com/@UniversoProgramado)\n",
        "* [Primer](https://www.youtube.com/@PrimerBlobs)\n",
        "* [Two Minute Papers](https://www.youtube.com/@TwoMinutePapers)\n",
        "* [AI Warehouse](https://www.youtube.com/@aiwarehouse)"
      ],
      "metadata": {
        "id": "mZrTlG6l-utD"
      }
    },
    {
      "cell_type": "markdown",
      "source": [
        "## Sites\n",
        "\n",
        "### IA\n",
        "* [Brasil Escola](https://brasilescola.uol.com.br/informatica/inteligencia-artificial.htm)\n",
        "* [IA Google Cloud](https://cloud.google.com/learn/what-is-artificial-intelligence?hl=pt-BR)\n",
        "\n",
        "### Arquivos\n",
        "* [Baixe o `pima-indians-diabetes.csv`](https://www.kaggle.com/datasets/kumargh/pimaindiansdiabetescsv)\n",
        "\n",
        "### Aprendizado de Máquina\n",
        "* [Aprendizado de Máquina Google Cloud](https://cloud.google.com/learn/what-is-machine-learning?hl=pt-BR)\n",
        "* [Aprendizado de Máquina IBM](https://www.ibm.com/br-pt/topics/machine-learning)\n",
        "* [Aprendizado de Máquina SAS](https://www.sas.com/pt_br/insights/analytics/machine-learning.html#:~:text=O%20aprendizado%20de%20m%C3%A1quina%20(em,o%20m%C3%ADnimo%20de%20interven%C3%A7%C3%A3o%20humana.)\n",
        "\n",
        "### Rede Neural\n",
        "* [Rede Neural Amazon AWS](https://aws.amazon.com/pt/what-is/neural-network/#:~:text=Uma%20rede%20neural%20%C3%A9%20um,forma%20inspirada%20pelo%20c%C3%A9rebro%20humano.)\n",
        "* [Rede Neural IBM](https://www.ibm.com/br-pt/topics/neural-networks)\n",
        "* [Rede Neural Medium](https://medium.com/brasil-ai/entendendo-o-funcionamento-de-uma-rede-neural-artificial-4463fcf44dd0)\n",
        "\n",
        "### Aprendizado Profundo\n",
        "* [Aprendizado Profundo (Deep Learning) Amazon](https://aws.amazon.com/what-is/deep-learning/)\n",
        "* [Aprendizado Profundo (Deep Learning) Microsoft Azure](https://azure.microsoft.com/pt-br/resources/cloud-computing-dictionary/what-is-deep-learning#:~:text=O%20aprendizado%20profundo%20%C3%A9%20um,n%C3%A3o%20estruturados%20e%20n%C3%A3o%20rotulados.)"
      ],
      "metadata": {
        "id": "9eTBtYeS-zmB"
      }
    },
    {
      "cell_type": "markdown",
      "source": [
        "## Livros\n",
        "* [Entendendo Algoritmos Um guia ilustrado para programadores e outros + Inteligência Artificial de George F. Luger + TCC Universo Programado](https://1drv.ms/f/s!AiRh8lM5z_ABi_MVQbS-fUJmPRe3Rw?e=0DK5aX)"
      ],
      "metadata": {
        "id": "BLEFqXIz_Ikn"
      }
    }
  ]
}