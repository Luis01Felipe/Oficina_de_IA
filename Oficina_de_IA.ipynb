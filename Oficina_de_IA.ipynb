{
  "nbformat": 4,
  "nbformat_minor": 0,
  "metadata": {
    "colab": {
      "provenance": [],
      "authorship_tag": "ABX9TyPNQsOIXoV0LUoiiEH1Xh8M",
      "include_colab_link": true
    },
    "kernelspec": {
      "name": "python3",
      "display_name": "Python 3"
    },
    "language_info": {
      "name": "python"
    }
  },
  "cells": [
    {
      "cell_type": "markdown",
      "metadata": {
        "id": "view-in-github",
        "colab_type": "text"
      },
      "source": [
        "<a href=\"https://colab.research.google.com/github/Luis01Felipe/Oficina_de_IA/blob/main/Oficina_de_IA.ipynb\" target=\"_parent\"><img src=\"https://colab.research.google.com/assets/colab-badge.svg\" alt=\"Open In Colab\"/></a>"
      ]
    },
    {
      "cell_type": "markdown",
      "source": [
        "# O que é uma Inteligência Artificial (IA) ?\n",
        "\n",
        "A inteligência artificial é um campo da ciência da computação que se dedica ao estudo e ao desenvolvimento de máquinas e programas computacionais capazes de reproduzir o comportamento humano na tomada de decisões e na realização de tarefas, desde as mais simples até as mais complexas. Funcionam mediante análise de um grande volume de dados e identificação de padrões, o que é feito por meio de métodos diversos, como o machine learning e o deep learning."
      ],
      "metadata": {
        "id": "lc8Wbj5tthY5"
      }
    },
    {
      "cell_type": "markdown",
      "source": [
        "## Mas, o que é inteligência ?\n",
        "Segundo o dicionário, inteligência é a capacidade de compreender e resolver novos problemas, adaptar-se a novas situações e tomar decisões com base em conhecimento adquirido. Porém, podemos ir além: inteligência também envolve a habilidade de aprender, reconhecer padrões e aplicar esses conhecimentos de forma eficaz. Dizemos que uma pessoa é inteligente quando consegue, por exemplo, identificar rapidamente como usar uma fórmula matemática apenas observando-a, compreendendo quando e onde aplicá-la. Assim, inteligência pode ser entendida como a maneira pela qual aplicamos o conhecimento para resolver problemas e tomar decisões.\n",
        "\n",
        "Isso nos leva a uma outra questão: o que é conhecimento? Segundo o dicionário, conhecimento é a capacidade de entender e compreender as coisas. No contexto de computação, podemos pensar no conhecimento como o resultado da interpretação e compreensão de informações.\n",
        "\n",
        "Mas, então, o que são informações? Elas são, essencialmente, dados organizados de forma que façam sentido. Dados, por sua vez, são registros brutos sobre o mundo ao nosso redor – como horários, números e eventos. Por exemplo, se soubermos que o ônibus passa às 8h30, o horário de entrada no trabalho é às 9h00, e que o trajeto leva 30 minutos, esses são dados. Quando analisamos esses dados juntos, compreendemos que devemos pegar o ônibus às 8h30 para chegar ao trabalho pontualmente. Essa compreensão é o que chamamos de conhecimento.\n",
        "\n",
        "Portanto, inteligência é o passo além: é a aplicação desse conhecimento para tomar decisões estratégicas, resolver problemas complexos e adaptar-se a novas situações. Na computação, transformar dados em informações e informações em inteligência é o que torna os sistemas verdadeiramente úteis, permitindo que façam análises e previsões cada vez mais sofisticadas."
      ],
      "metadata": {
        "id": "c8RvuteJuw23"
      }
    },
    {
      "cell_type": "markdown",
      "source": [
        "## Mas, o que é artificial?\n",
        "Segundo o dicionário, é aquilo que é produzido pela mão do homem, não pela natureza. Ou seja, aquilo que não é natural."
      ],
      "metadata": {
        "id": "n0W1buYEy52u"
      }
    },
    {
      "cell_type": "markdown",
      "source": [
        "## Concluindo\n",
        "Com base no que discutimos, podemos concluir que uma Inteligência Artificial é um software criado pelo ser humano com a capacidade de adquirir e aprender a partir de dados, transformando-os em informações úteis. A partir dessas informações, ela constrói conhecimento, que, por sua vez, é aplicado para resolver problemas e tomar decisões.\n",
        "\n",
        "\n",
        "---\n",
        "\n",
        "\n",
        "**NOTA**: Um software é um conjunto de instruções ou programas que permitem que um computador ou outro dispositivo execute tarefas específicas. Ele é a parte lógica e imaterial de um dispositivo, enquanto o hardware é a parte física."
      ],
      "metadata": {
        "id": "iqEGIJ3V0ECx"
      }
    },
    {
      "cell_type": "markdown",
      "source": [
        "# Exemplos de Inteligências Artificiais (IAs)\n",
        "\n",
        "\n"
      ],
      "metadata": {
        "id": "tCYb2SSO2IdI"
      }
    },
    {
      "cell_type": "markdown",
      "source": [
        "## ChatGPT\n",
        "Provavelmente o exemplo de IA mais conhecido atualmente, o ChatGPT (abreviação de *Generative Pre-trained Transformer*, ou transformador pré-treinado generativo) é uma IA desenvolvida pela OpenAI que simula conversas humanas. Ele permite que os usuários façam perguntas e recebam respostas detalhadas sobre uma ampla variedade de tópicos.\n",
        "\n",
        "![Imagem do ChatGPT](https://gizmodo.uol.com.br/wp-content/blogs.dir/8/files/2023/01/ChatGPT-1.png)"
      ],
      "metadata": {
        "id": "5cXjJYUr6AUE"
      }
    },
    {
      "cell_type": "markdown",
      "source": [
        "## DALL-E 2\n",
        "Outra IA desenvolvida pela OpenAI, o DALL-E 2 possui uma função diferente do ChatGPT: ele transforma descrições em linguagem natural em imagens. Basta o usuário fazer um pedido em texto, como \"um astronauta montado em um cavalo\", e o DALL-E 2 gera uma imagem com base nessa descrição. Ele é especialmente útil para criar ilustrações únicas a partir de ideias criativas.\n",
        "\n",
        "\n",
        "---\n",
        "\n",
        "\n",
        "**Nota**: A linguagem natural refere-se a qualquer idioma desenvolvido espontaneamente pelo ser humano, como o português, inglês ou línguas de sinais.\n",
        "![Imagem do DALL-E 2](https://images.ctfassets.net/kftzwdyauwt9/5GOIjwbUjLZHoGhX6q5oQg/d2984681d2a9466b71b7ca7632a8481c/Anastronautridingahorseinaphotorealisticstyle0.jpg)\n"
      ],
      "metadata": {
        "id": "kW6FRmld6Da7"
      }
    },
    {
      "cell_type": "markdown",
      "source": [
        "## AMD FSR e Nvidia DLSS\n",
        "As tecnologias AMD FidelityFX Super Resolution (FSR) e Nvidia Deep Learning Super Sampling (DLSS) são exemplos de IAs que atuam na melhoria gráfica em jogos. Ambas utilizam inteligência artificial para aprimorar a qualidade da imagem e a taxa de quadros, permitindo que jogos tenham um desempenho melhor em configurações de hardware mais modestas. Embora sejam diferentes na abordagem, ambas compartilham o objetivo de otimizar a experiência visual dos jogadores.\n",
        "\n",
        "![Imagem do AMD FSR](https://www.adrenaline.com.br/wp-content/uploads/2023/09/AMD-FSR-3-Gamescom-blog-Performance-1200x675.jpg)"
      ],
      "metadata": {
        "id": "AaUL8XFx6FhB"
      }
    },
    {
      "cell_type": "markdown",
      "source": [
        "# Algoritmos Especializados\n",
        "Você percebeu que a Cortana do Windows, a Alexa da Amazon e o Google Assistente não apareceram nos exemplos anteriores, apesar de serem bastante populares? Isso ocorre porque esses assistentes virtuais são conhecidos como algoritmos especializados. Eles têm uma função mais específica e são projetados para realizar tarefas em domínios limitados, ao contrário de IAs mais generalistas como o ChatGPT e o DALL-E.\n",
        "\n",
        "\n"
      ],
      "metadata": {
        "id": "2VtLo7kP6li5"
      }
    },
    {
      "cell_type": "markdown",
      "source": [
        "## O que são Algoritmos Especializados?\n",
        "Algoritmos especializados são sistemas de inteligência artificial que se concentram em resolver problemas específicos ou realizar tarefas bem definidas, com um conjunto de funcionalidades limitadas, mas altamente otimizadas. Esse tipo de IA é amplamente utilizado em assistentes virtuais, que são projetados para facilitar ações do cotidiano, como configurar alarmes, responder a perguntas triviais, fornecer direções e controlar dispositivos conectados.\n"
      ],
      "metadata": {
        "id": "FFC71U0D7oBF"
      }
    },
    {
      "cell_type": "markdown",
      "source": [
        "## Diferenças\n",
        "\n",
        "\n",
        "### Algoritmos Especializados\n",
        "Esses algoritmos geralmente usam técnicas de reconhecimento de fala e processamento de linguagem natural (PLN), combinadas com bancos de dados estruturados e comandos predefinidos. O aprendizado dessas IAs é restrito, operando dentro de um escopo limitado e em tarefas específicas. Por exemplo, a Alexa é excelente para controlar dispositivos de casa inteligente e responder a perguntas simples, mas não consegue sustentar conversas complexas ou realizar análises avançadas.\n",
        "\n",
        "### IAs Generalistas\n",
        "As IAs generalistas são baseadas em modelos de aprendizado profundo, como redes neurais complexas, que processam grandes volumes de dados não estruturados e possuem camadas de processamento mais profundas. Com uma ampla capacidade de resposta e adaptabilidade, essas IAs são desenvolvidas para interpretar, gerar e adaptar conteúdos variados, desde texto até imagens e áudio, em diversos contextos. Por exemplo, o ChatGPT pode responder perguntas complexas, ajudar em problemas de programação e até fornecer conselhos detalhados em diferentes áreas.\n",
        "\n",
        "\n",
        "\n",
        "\n",
        "\n",
        "\n",
        "\n",
        "\n"
      ],
      "metadata": {
        "id": "v1d0mWYN9Cfo"
      }
    },
    {
      "cell_type": "markdown",
      "source": [
        "# Aprendizado de Máquina"
      ],
      "metadata": {
        "id": "NHeP7j3z-eya"
      }
    }
  ]
}